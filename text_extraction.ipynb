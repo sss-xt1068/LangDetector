{
 "cells": [
  {
   "cell_type": "code",
   "execution_count": 1,
   "metadata": {},
   "outputs": [
    {
     "name": "stdout",
     "output_type": "stream",
     "text": [
      "Requirement already satisfied: pipenv in c:\\users\\lenovo\\anaconda3\\lib\\site-packages (2018.11.26)\n",
      "Requirement already satisfied: virtualenv in c:\\users\\lenovo\\anaconda3\\lib\\site-packages (from pipenv) (16.7.9)\n",
      "Requirement already satisfied: setuptools>=36.2.1 in c:\\users\\lenovo\\anaconda3\\lib\\site-packages (from pipenv) (41.4.0)\n",
      "Requirement already satisfied: pip>=9.0.1 in c:\\users\\lenovo\\anaconda3\\lib\\site-packages (from pipenv) (19.2.3)\n",
      "Requirement already satisfied: certifi in c:\\users\\lenovo\\anaconda3\\lib\\site-packages (from pipenv) (2019.9.11)\n",
      "Requirement already satisfied: virtualenv-clone>=0.2.5 in c:\\users\\lenovo\\anaconda3\\lib\\site-packages (from pipenv) (0.5.3)\n",
      "Note: you may need to restart the kernel to use updated packages.\n"
     ]
    }
   ],
   "source": [
    "pip install pipenv"
   ]
  },
  {
   "cell_type": "code",
   "execution_count": 4,
   "metadata": {},
   "outputs": [
    {
     "name": "stdout",
     "output_type": "stream",
     "text": [
      "Abstract:\n",
      "\n",
      "In this paper, we present a new method of language detection. This method is based on language pair\n",
      "discrimination using neural networks as classifier of acoustic features. The neural networks outputs are\n",
      "analyzed with two points of view, first the observed time series is uncorrelated and we sum it, secondly we\n",
      "consider it as correlated and we focus on the maximum continuous duration of each output. No acoustic\n",
      "decomposition of the speech signal is needed. We present an application of our method for the language\n",
      "detection task used for the NIST 2005 language recognition evaluation\n"
     ]
    }
   ],
   "source": [
    "try:\n",
    "  from PIL import Image\n",
    "except ImportError:\n",
    "  import Image\n",
    "import pytesseract\n",
    "\n",
    "def ocr_core(filename):\n",
    "  text = pytesseract.image_to_string(Image.open(filename))\n",
    "  return text\n",
    "print(ocr_core(r'C:\\Users\\LENOVO\\Downloads\\cover3.jpeg'))"
   ]
  },
  {
   "cell_type": "code",
   "execution_count": null,
   "metadata": {},
   "outputs": [],
   "source": []
  }
 ],
 "metadata": {
  "kernelspec": {
   "display_name": "Python 3",
   "language": "python",
   "name": "python3"
  },
  "language_info": {
   "codemirror_mode": {
    "name": "ipython",
    "version": 3
   },
   "file_extension": ".py",
   "mimetype": "text/x-python",
   "name": "python",
   "nbconvert_exporter": "python",
   "pygments_lexer": "ipython3",
   "version": "3.7.4"
  }
 },
 "nbformat": 4,
 "nbformat_minor": 2
}
